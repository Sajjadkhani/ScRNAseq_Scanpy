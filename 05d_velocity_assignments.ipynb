{
 "cells": [
  {
   "cell_type": "markdown",
   "metadata": {
    "pycharm": {
     "name": "#%% md\n"
    }
   },
   "source": [
    "## Modelling expression kinetics of mRNA splicing\n",
    "\n",
    "Splicing dynamics are modeled by the ordinary differential equation (ODE)\n",
    "\n",
    "$\n",
    "\\begin{aligned}\n",
    "\\dot{u} &= \\alpha - \\beta u, \\\\\n",
    "\\dot{s} &= \\beta u - \\gamma s,\n",
    "\\end{aligned}\n",
    "$"
   ]
  },
  {
   "cell_type": "markdown",
   "metadata": {},
   "source": [
    "with transcription rate $\\alpha$, splicing rate $\\beta$ and degradation rate $\\gamma$ (all rates are positive). \n",
    "\n",
    "Starting from initial abundances $u_0, s_0$ at $t_0$, the solution of the splicing dynamics is given by\n",
    "\n",
    "$\n",
    "\\begin{aligned}\n",
    "u(\\tau) &= u_0^{(k)} e^{-\\beta \\tau} + \\frac{\\alpha^{(k)}}{\\beta} (1 - e^{-\\beta \\tau}),\\\\\n",
    "s(\\tau) &= s_0^{(k)} e^{-\\gamma \\tau} + \\frac{\\alpha^{(k)}}{\\gamma}(1 - e^{-\\gamma \\tau}) + \\frac{\\alpha^{(k)} - \\beta u_0^{(k)}}{\\gamma - \\beta} (e^{-\\gamma \\tau} - e^{-\\beta \\tau}),\n",
    "\\end{aligned}\n",
    "$\n",
    "\n",
    "with $\\tau = t - t_0$. \n",
    "\n",
    "Note that $\\alpha$, $u_0$ and $s_0$ depend on the current state $(k)$. During induction ($k=$'on'), transcription starts (e.g. with rate $\\alpha=5$) in the origin ($u_0 = 0, s_0 = 0$). In repression phase ($k=$'off'), transcription terminates ($\\alpha=0$) at a switching time point $t_0$ ($u_0 > 0, s_0 > 0$). "
   ]
  },
  {
   "cell_type": "markdown",
   "metadata": {},
   "source": [
    "**Assignment 1**\n",
    "\n",
    "**a)** Write a function to return the solution of the un/spliced at a given a set of parameters and time point $t$.\n",
    "\n",
    "**b)** Use the function from a) to simulate a phase trajectory for a single gene (e.g., see [here](https://scvelo-notebooks.readthedocs.io/_images/paper_simulation(Supp.Figs.)_3_1.png)). Start with modeling the induction phase. (**Bonus**: Now simulate jointly both induction repression phase). \n",
    "\n",
    "**c)** How do the phase portraits change depending on varying rates of splicing $\\beta$\n",
    "and degradation $\\gamma$ (while keeping all other parameters fixed).\n"
   ]
  },
  {
   "cell_type": "code",
   "execution_count": 1,
   "metadata": {},
   "outputs": [],
   "source": [
    "### Get started here with Assignment 1\n"
   ]
  },
  {
   "cell_type": "markdown",
   "metadata": {},
   "source": [
    "## Likelihood genes and trajectory analysis\n",
    "\n",
    "**Assignment 2**\n",
    "\n",
    "**a)** Sort the genes by their likelihood. Plot the phase portraits of the $10$ genes with the highest as well as the $10$ with the lowest likelihood. How do the phase portraits differ visually?\n",
    "\n",
    "**b)** Taking the top likelihood genes, how many genes do you need to reconstruct the vector field? That is, compare the velocity embedding obtained only from a subset of likelihood genes, with the velocity embedding obtained using all genes (e.g. using Pearson correlation). \n",
    "\n",
    "**c)** Identify genes that are supporting (or contradicting) the embedded velocities, e.g., by selecting genes whose gene-wise latent time correlates with the universal latent time. \n",
    "\n",
    "**d)** Use transition matrix from `scv.utils.get_transition_matrix` with cell-to-cell transition probabilities to simulate trajectories, like this one [here](https://scvelo.readthedocs.io/_images/VelocityBasics_50_0.png). Can you show, which cells tend to differentitate into Alpha cells, and which ones are more likely to become Beta cells? How do the identified genes from a) and c) evolve along this trajectory? "
   ]
  },
  {
   "cell_type": "code",
   "execution_count": 2,
   "metadata": {},
   "outputs": [],
   "source": [
    "### Get started here with Assignment 2\n"
   ]
  },
  {
   "cell_type": "markdown",
   "metadata": {},
   "source": [
    "## Bonus: Potential regulatory interactions\n",
    "\n",
    "**Bonus Assignment**\n",
    "\n",
    "Can you identify genes that are activated shortly before the Alpha/Beta branching point, and may be causal regulators for genes that get up-regulated in, e.g., towards Beta cells? "
   ]
  }
 ],
 "metadata": {
  "kernelspec": {
   "display_name": "Python 3",
   "language": "python",
   "name": "python3"
  },
  "language_info": {
   "codemirror_mode": {
    "name": "ipython",
    "version": 3
   },
   "file_extension": ".py",
   "mimetype": "text/x-python",
   "name": "python",
   "nbconvert_exporter": "python",
   "pygments_lexer": "ipython3",
   "version": "3.8.8"
  },
  "uuid": "07e98ee8-cab2-4f65-bad5-fb1d659867ae"
 },
 "nbformat": 4,
 "nbformat_minor": 4
}
